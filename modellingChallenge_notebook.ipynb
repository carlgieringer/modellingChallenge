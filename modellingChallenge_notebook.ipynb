{
 "cells": [
  {
   "cell_type": "code",
   "execution_count": 1,
   "metadata": {
    "collapsed": false
   },
   "outputs": [],
   "source": [
    "import pandas as pd\n",
    "import numpy as np\n",
    "\n",
    "# Sci-kit learn imports\n",
    "from sklearn.ensemble import RandomForestRegressor\n",
    "from sklearn.grid_search import GridSearchCV\n",
    "from sklearn.cross_validation import train_test_split\n",
    "from sklearn.feature_extraction import DictVectorizer"
   ]
  },
  {
   "cell_type": "markdown",
   "metadata": {},
   "source": [
    "# Load the training data and split the data into a training and testing subset for validation."
   ]
  },
  {
   "cell_type": "code",
   "execution_count": 2,
   "metadata": {
    "collapsed": false
   },
   "outputs": [
    {
     "data": {
      "text/html": [
       "<div>\n",
       "<table border=\"1\" class=\"dataframe\">\n",
       "  <thead>\n",
       "    <tr style=\"text-align: right;\">\n",
       "      <th></th>\n",
       "      <th>Customer_ID</th>\n",
       "      <th>Customer_Value</th>\n",
       "      <th>Gender</th>\n",
       "      <th>Age</th>\n",
       "      <th>Income</th>\n",
       "      <th>CE_Pet_Model</th>\n",
       "      <th>CE_Frozen_Meal_Model</th>\n",
       "      <th>CE_Donations_Model</th>\n",
       "      <th>CE_Foreign_Travel_Model</th>\n",
       "      <th>CE_Physical_Fitness_Model</th>\n",
       "      <th>CE_Pro_Tax_Preparation_Model</th>\n",
       "      <th>CE_Golf_Model</th>\n",
       "      <th>CE_Higher_Education_Model</th>\n",
       "      <th>CE_Avid_TV_Model</th>\n",
       "      <th>CE_Social_Networking_Model</th>\n",
       "    </tr>\n",
       "  </thead>\n",
       "  <tbody>\n",
       "    <tr>\n",
       "      <th>0</th>\n",
       "      <td>1</td>\n",
       "      <td>171.057</td>\n",
       "      <td>M</td>\n",
       "      <td>73</td>\n",
       "      <td>93000</td>\n",
       "      <td>4.084</td>\n",
       "      <td>14.942</td>\n",
       "      <td>3.944</td>\n",
       "      <td>4.938</td>\n",
       "      <td>1.591</td>\n",
       "      <td>-1.676</td>\n",
       "      <td>5.389</td>\n",
       "      <td>-3.724</td>\n",
       "      <td>4.046</td>\n",
       "      <td>6.918</td>\n",
       "    </tr>\n",
       "    <tr>\n",
       "      <th>1</th>\n",
       "      <td>2</td>\n",
       "      <td>51.686</td>\n",
       "      <td>M</td>\n",
       "      <td>42</td>\n",
       "      <td>64000</td>\n",
       "      <td>2.431</td>\n",
       "      <td>1.411</td>\n",
       "      <td>-0.362</td>\n",
       "      <td>6.078</td>\n",
       "      <td>1.930</td>\n",
       "      <td>0.851</td>\n",
       "      <td>1.539</td>\n",
       "      <td>-1.177</td>\n",
       "      <td>-2.237</td>\n",
       "      <td>0.109</td>\n",
       "    </tr>\n",
       "    <tr>\n",
       "      <th>2</th>\n",
       "      <td>3</td>\n",
       "      <td>88.558</td>\n",
       "      <td>M</td>\n",
       "      <td>60</td>\n",
       "      <td>74000</td>\n",
       "      <td>1.915</td>\n",
       "      <td>8.059</td>\n",
       "      <td>0.617</td>\n",
       "      <td>3.281</td>\n",
       "      <td>0.811</td>\n",
       "      <td>-0.838</td>\n",
       "      <td>2.239</td>\n",
       "      <td>0.231</td>\n",
       "      <td>-2.062</td>\n",
       "      <td>-5.429</td>\n",
       "    </tr>\n",
       "    <tr>\n",
       "      <th>3</th>\n",
       "      <td>4</td>\n",
       "      <td>24.079</td>\n",
       "      <td>M</td>\n",
       "      <td>25</td>\n",
       "      <td>65000</td>\n",
       "      <td>-0.331</td>\n",
       "      <td>3.180</td>\n",
       "      <td>-3.364</td>\n",
       "      <td>-3.395</td>\n",
       "      <td>0.401</td>\n",
       "      <td>0.178</td>\n",
       "      <td>1.110</td>\n",
       "      <td>-2.834</td>\n",
       "      <td>0.745</td>\n",
       "      <td>-3.763</td>\n",
       "    </tr>\n",
       "    <tr>\n",
       "      <th>4</th>\n",
       "      <td>5</td>\n",
       "      <td>46.308</td>\n",
       "      <td>M</td>\n",
       "      <td>39</td>\n",
       "      <td>62000</td>\n",
       "      <td>4.652</td>\n",
       "      <td>7.882</td>\n",
       "      <td>0.653</td>\n",
       "      <td>2.940</td>\n",
       "      <td>1.751</td>\n",
       "      <td>2.737</td>\n",
       "      <td>0.350</td>\n",
       "      <td>5.628</td>\n",
       "      <td>-5.427</td>\n",
       "      <td>-8.007</td>\n",
       "    </tr>\n",
       "  </tbody>\n",
       "</table>\n",
       "</div>"
      ],
      "text/plain": [
       "   Customer_ID  Customer_Value Gender  Age  Income  CE_Pet_Model  \\\n",
       "0            1         171.057      M   73   93000         4.084   \n",
       "1            2          51.686      M   42   64000         2.431   \n",
       "2            3          88.558      M   60   74000         1.915   \n",
       "3            4          24.079      M   25   65000        -0.331   \n",
       "4            5          46.308      M   39   62000         4.652   \n",
       "\n",
       "   CE_Frozen_Meal_Model  CE_Donations_Model  CE_Foreign_Travel_Model  \\\n",
       "0                14.942               3.944                    4.938   \n",
       "1                 1.411              -0.362                    6.078   \n",
       "2                 8.059               0.617                    3.281   \n",
       "3                 3.180              -3.364                   -3.395   \n",
       "4                 7.882               0.653                    2.940   \n",
       "\n",
       "   CE_Physical_Fitness_Model  CE_Pro_Tax_Preparation_Model  CE_Golf_Model  \\\n",
       "0                      1.591                        -1.676          5.389   \n",
       "1                      1.930                         0.851          1.539   \n",
       "2                      0.811                        -0.838          2.239   \n",
       "3                      0.401                         0.178          1.110   \n",
       "4                      1.751                         2.737          0.350   \n",
       "\n",
       "   CE_Higher_Education_Model  CE_Avid_TV_Model  CE_Social_Networking_Model  \n",
       "0                     -3.724             4.046                       6.918  \n",
       "1                     -1.177            -2.237                       0.109  \n",
       "2                      0.231            -2.062                      -5.429  \n",
       "3                     -2.834             0.745                      -3.763  \n",
       "4                      5.628            -5.427                      -8.007  "
      ]
     },
     "execution_count": 2,
     "metadata": {},
     "output_type": "execute_result"
    }
   ],
   "source": [
    "training_data = pd.read_csv('./data/modellingProjectTraining.txt', delimiter=';')\n",
    "training_data.head()"
   ]
  },
  {
   "cell_type": "code",
   "execution_count": 3,
   "metadata": {
    "collapsed": true
   },
   "outputs": [],
   "source": [
    "def gender_encoder(gender):\n",
    "    ''' gender_encoder takes in either a string,'F' or 'M', and returns either 1 or 0, respectively. \n",
    "    If the string is neither 'M' or 'F', gender_encoder returns none.'''\n",
    "    if gender == 'M':\n",
    "        return 0\n",
    "    elif gender == 'F':\n",
    "        return 1\n",
    "    else:\n",
    "        return None"
   ]
  },
  {
   "cell_type": "code",
   "execution_count": 4,
   "metadata": {
    "collapsed": false
   },
   "outputs": [],
   "source": [
    "# Split into inputs and targets.\n",
    "Xdata, Ydata = training_data.ix[:,2:], training_data.ix[:,1]\n",
    "# Encode the cendor as a binary integer value.\n",
    "Xdata['Gender'] = Xdata['Gender'].apply(gender_encoder)"
   ]
  },
  {
   "cell_type": "code",
   "execution_count": 5,
   "metadata": {
    "collapsed": false
   },
   "outputs": [],
   "source": [
    "Xtrain, Xtest, Ytrain, Ytest = train_test_split(Xdata, Ydata, test_size=.25)"
   ]
  },
  {
   "cell_type": "markdown",
   "metadata": {},
   "source": [
    "# Build Model"
   ]
  },
  {
   "cell_type": "code",
   "execution_count": 6,
   "metadata": {
    "collapsed": false
   },
   "outputs": [
    {
     "data": {
      "text/plain": [
       "[mean: 0.28555, std: 0.00672, params: {'n_estimators': 2, 'max_depth': 5},\n",
       " mean: 0.29031, std: 0.00526, params: {'n_estimators': 5, 'max_depth': 5},\n",
       " mean: 0.29308, std: 0.00479, params: {'n_estimators': 10, 'max_depth': 5},\n",
       " mean: 0.42507, std: 0.00622, params: {'n_estimators': 2, 'max_depth': 10},\n",
       " mean: 0.45049, std: 0.00498, params: {'n_estimators': 5, 'max_depth': 10},\n",
       " mean: 0.45767, std: 0.00488, params: {'n_estimators': 10, 'max_depth': 10}]"
      ]
     },
     "execution_count": 6,
     "metadata": {},
     "output_type": "execute_result"
    }
   ],
   "source": [
    "# Grid search over estimators and depth of the random forest regressor.\n",
    "grid_search = GridSearchCV(RandomForestRegressor(), param_grid={'n_estimators': [2, 5, 10], 'max_depth':[5,10]})\n",
    "grid_search.fit(Xtrain, Ytrain)\n",
    "grid_search.grid_scores_"
   ]
  },
  {
   "cell_type": "code",
   "execution_count": 7,
   "metadata": {
    "collapsed": false
   },
   "outputs": [
    {
     "name": "stdout",
     "output_type": "stream",
     "text": [
      "Model R^2 value 0.45\n"
     ]
    }
   ],
   "source": [
    "# Use best scoring parameters for the model\n",
    "random_forest_model = RandomForestRegressor(**grid_search.best_params_)\n",
    "random_forest_model.fit(Xtrain, Ytrain)\n",
    "\n",
    "# Confirm model preformance on reserved testing data\n",
    "random_forest_score = random_forest_model.score(Xtest, Ytest)\n",
    "print \"Model R^2 value %.2f\" %random_forest_score"
   ]
  },
  {
   "cell_type": "code",
   "execution_count": 9,
   "metadata": {
    "collapsed": false
   },
   "outputs": [
    {
     "data": {
      "text/plain": [
       "RandomForestRegressor(bootstrap=True, criterion='mse', max_depth=10,\n",
       "           max_features='auto', max_leaf_nodes=None, min_samples_leaf=1,\n",
       "           min_samples_split=2, min_weight_fraction_leaf=0.0,\n",
       "           n_estimators=10, n_jobs=1, oob_score=False, random_state=None,\n",
       "           verbose=0, warm_start=False)"
      ]
     },
     "execution_count": 9,
     "metadata": {},
     "output_type": "execute_result"
    }
   ],
   "source": [
    "# Retrain the data on the full training set.\n",
    "random_forest_model.fit(Xdata, Ydata)"
   ]
  },
  {
   "cell_type": "markdown",
   "metadata": {},
   "source": [
    "# Produce Predictions"
   ]
  },
  {
   "cell_type": "code",
   "execution_count": 10,
   "metadata": {
    "collapsed": false
   },
   "outputs": [
    {
     "data": {
      "text/html": [
       "<div>\n",
       "<table border=\"1\" class=\"dataframe\">\n",
       "  <thead>\n",
       "    <tr style=\"text-align: right;\">\n",
       "      <th></th>\n",
       "      <th>Customer_ID</th>\n",
       "      <th>Gender</th>\n",
       "      <th>Age</th>\n",
       "      <th>Income</th>\n",
       "      <th>CE_Pet_Model</th>\n",
       "      <th>CE_Frozen_Meal_Model</th>\n",
       "      <th>CE_Donations_Model</th>\n",
       "      <th>CE_Foreign_Travel_Model</th>\n",
       "      <th>CE_Physical_Fitness_Model</th>\n",
       "      <th>CE_Pro_Tax_Preparation_Model</th>\n",
       "      <th>CE_Golf_Model</th>\n",
       "      <th>CE_Higher_Education_Model</th>\n",
       "      <th>CE_Avid_TV_Model</th>\n",
       "      <th>CE_Social_Networking_Model</th>\n",
       "    </tr>\n",
       "  </thead>\n",
       "  <tbody>\n",
       "    <tr>\n",
       "      <th>0</th>\n",
       "      <td>2000000</td>\n",
       "      <td>M</td>\n",
       "      <td>70</td>\n",
       "      <td>37000</td>\n",
       "      <td>-0.948</td>\n",
       "      <td>-4.654</td>\n",
       "      <td>2.314</td>\n",
       "      <td>-0.962</td>\n",
       "      <td>3.077</td>\n",
       "      <td>1.218</td>\n",
       "      <td>2.613</td>\n",
       "      <td>1.190</td>\n",
       "      <td>-4.215</td>\n",
       "      <td>-0.534</td>\n",
       "    </tr>\n",
       "    <tr>\n",
       "      <th>1</th>\n",
       "      <td>2000001</td>\n",
       "      <td>F</td>\n",
       "      <td>27</td>\n",
       "      <td>135000</td>\n",
       "      <td>2.128</td>\n",
       "      <td>12.758</td>\n",
       "      <td>0.856</td>\n",
       "      <td>-1.899</td>\n",
       "      <td>1.155</td>\n",
       "      <td>1.797</td>\n",
       "      <td>6.129</td>\n",
       "      <td>-0.819</td>\n",
       "      <td>-0.123</td>\n",
       "      <td>1.606</td>\n",
       "    </tr>\n",
       "    <tr>\n",
       "      <th>2</th>\n",
       "      <td>2000002</td>\n",
       "      <td>M</td>\n",
       "      <td>31</td>\n",
       "      <td>88000</td>\n",
       "      <td>1.737</td>\n",
       "      <td>-0.312</td>\n",
       "      <td>-1.340</td>\n",
       "      <td>-6.317</td>\n",
       "      <td>4.857</td>\n",
       "      <td>4.189</td>\n",
       "      <td>0.897</td>\n",
       "      <td>2.467</td>\n",
       "      <td>-2.471</td>\n",
       "      <td>1.151</td>\n",
       "    </tr>\n",
       "    <tr>\n",
       "      <th>3</th>\n",
       "      <td>2000003</td>\n",
       "      <td>M</td>\n",
       "      <td>44</td>\n",
       "      <td>128000</td>\n",
       "      <td>3.180</td>\n",
       "      <td>-3.670</td>\n",
       "      <td>1.393</td>\n",
       "      <td>0.655</td>\n",
       "      <td>2.211</td>\n",
       "      <td>3.477</td>\n",
       "      <td>-5.705</td>\n",
       "      <td>4.287</td>\n",
       "      <td>-1.470</td>\n",
       "      <td>5.401</td>\n",
       "    </tr>\n",
       "    <tr>\n",
       "      <th>4</th>\n",
       "      <td>2000004</td>\n",
       "      <td>F</td>\n",
       "      <td>48</td>\n",
       "      <td>135000</td>\n",
       "      <td>1.929</td>\n",
       "      <td>8.700</td>\n",
       "      <td>1.614</td>\n",
       "      <td>-0.443</td>\n",
       "      <td>-2.909</td>\n",
       "      <td>1.752</td>\n",
       "      <td>1.016</td>\n",
       "      <td>0.408</td>\n",
       "      <td>-2.552</td>\n",
       "      <td>-6.224</td>\n",
       "    </tr>\n",
       "  </tbody>\n",
       "</table>\n",
       "</div>"
      ],
      "text/plain": [
       "   Customer_ID Gender  Age  Income  CE_Pet_Model  CE_Frozen_Meal_Model  \\\n",
       "0      2000000      M   70   37000        -0.948                -4.654   \n",
       "1      2000001      F   27  135000         2.128                12.758   \n",
       "2      2000002      M   31   88000         1.737                -0.312   \n",
       "3      2000003      M   44  128000         3.180                -3.670   \n",
       "4      2000004      F   48  135000         1.929                 8.700   \n",
       "\n",
       "   CE_Donations_Model  CE_Foreign_Travel_Model  CE_Physical_Fitness_Model  \\\n",
       "0               2.314                   -0.962                      3.077   \n",
       "1               0.856                   -1.899                      1.155   \n",
       "2              -1.340                   -6.317                      4.857   \n",
       "3               1.393                    0.655                      2.211   \n",
       "4               1.614                   -0.443                     -2.909   \n",
       "\n",
       "   CE_Pro_Tax_Preparation_Model  CE_Golf_Model  CE_Higher_Education_Model  \\\n",
       "0                         1.218          2.613                      1.190   \n",
       "1                         1.797          6.129                     -0.819   \n",
       "2                         4.189          0.897                      2.467   \n",
       "3                         3.477         -5.705                      4.287   \n",
       "4                         1.752          1.016                      0.408   \n",
       "\n",
       "   CE_Avid_TV_Model  CE_Social_Networking_Model  \n",
       "0            -4.215                      -0.534  \n",
       "1            -0.123                       1.606  \n",
       "2            -2.471                       1.151  \n",
       "3            -1.470                       5.401  \n",
       "4            -2.552                      -6.224  "
      ]
     },
     "execution_count": 10,
     "metadata": {},
     "output_type": "execute_result"
    }
   ],
   "source": [
    "prediction_data =  pd.read_csv('./data/modellingProjectModelling.txt', delimiter=';')\n",
    "prediction_data.head()"
   ]
  },
  {
   "cell_type": "code",
   "execution_count": 12,
   "metadata": {
    "collapsed": false
   },
   "outputs": [],
   "source": [
    "prediction_Xdata = prediction_data.ix[:, 1:] # Drop the customer_id from the model\n",
    "prediction_Xdata['Gender'] = prediction_data['Gender'].apply(gender_encoder)"
   ]
  },
  {
   "cell_type": "code",
   "execution_count": 14,
   "metadata": {
    "collapsed": false
   },
   "outputs": [],
   "source": [
    "results = random_forest_model.predict(prediction_Xdata)"
   ]
  },
  {
   "cell_type": "code",
   "execution_count": 15,
   "metadata": {
    "collapsed": false
   },
   "outputs": [],
   "source": [
    "# Write results to customer_model_out.txt as ; deliminated file with a header.\n",
    "with open('customer_model_out.txt', 'w') as f:\n",
    "    f.write('\"Customer_ID\";\"Predicted_Score\"\\n')\n",
    "    for customer_id, result in zip(prediction_data['Customer_ID'], results):\n",
    "        f.write(\";\".join([str(customer_id), str(result)]) + \"\\n\")"
   ]
  },
  {
   "cell_type": "code",
   "execution_count": null,
   "metadata": {
    "collapsed": true
   },
   "outputs": [],
   "source": []
  }
 ],
 "metadata": {
  "kernelspec": {
   "display_name": "Python 2",
   "language": "python",
   "name": "python2"
  },
  "language_info": {
   "codemirror_mode": {
    "name": "ipython",
    "version": 2
   },
   "file_extension": ".py",
   "mimetype": "text/x-python",
   "name": "python",
   "nbconvert_exporter": "python",
   "pygments_lexer": "ipython2",
   "version": "2.7.11"
  }
 },
 "nbformat": 4,
 "nbformat_minor": 0
}
